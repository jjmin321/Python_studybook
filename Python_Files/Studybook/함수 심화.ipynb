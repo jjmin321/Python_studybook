{
 "cells": [
  {
   "cell_type": "markdown",
   "metadata": {},
   "source": [
    "# 1.함수의 인수의 개수가 고정되지 않은 인수의 처리방법\n",
    "- *변수 : 튜플 형식"
   ]
  },
  {
   "cell_type": "code",
   "execution_count": 19,
   "metadata": {},
   "outputs": [
    {
     "name": "stdout",
     "output_type": "stream",
     "text": [
      "<class 'tuple'>\n",
      "15\n",
      "<class 'tuple'>\n",
      "60\n",
      "<class 'tuple'>\n",
      "280\n"
     ]
    }
   ],
   "source": [
    "def add_many(a,b,*args):\n",
    "    total = a + b\n",
    "    print(type(args))\n",
    "    for k in args:\n",
    "        total += k\n",
    "    return total\n",
    "print(add_many(1,2,3,4,5))\n",
    "print(add_many(10,20,30))\n",
    "print(add_many(10,20,30,40,50,60,70))"
   ]
  },
  {
   "cell_type": "markdown",
   "metadata": {},
   "source": [
    "# 2.함수의 인수의 개수가 고정되지 않은 인수의 처리방법\n",
    "- **변수 : dict 형식"
   ]
  },
  {
   "cell_type": "code",
   "execution_count": 24,
   "metadata": {},
   "outputs": [
    {
     "name": "stdout",
     "output_type": "stream",
     "text": [
      "10 20\n",
      "<class 'dict'> {'depth': 5, 'dimension': 7}\n"
     ]
    }
   ],
   "source": [
    "def func(width,height,**kw):\n",
    "    print(width,height)\n",
    "    print(type(kw), kw) # <class 'dict'> {'depth': 5, 'dimension': 7}\n",
    "func(width = 10, height = 20, depth = 5, dimension = 7)"
   ]
  },
  {
   "cell_type": "markdown",
   "metadata": {},
   "source": [
    "# 3. 함수사용시 변수의 유효 범위 규칙(Scope Rule)\n",
    "- LEGB 규칙 : Local > Enclosing Function Local > Global > Built-in"
   ]
  },
  {
   "cell_type": "code",
   "execution_count": 47,
   "metadata": {},
   "outputs": [
    {
     "name": "stdout",
     "output_type": "stream",
     "text": [
      "foo: 20\n",
      "bar: 30 20 11\n"
     ]
    }
   ],
   "source": [
    "x = 10 # G\n",
    "y = 11 # G\n",
    "def foo():\n",
    "    x = 20 # L\n",
    "    foo_list = [\"진우\", \"주엽\"] # L\n",
    "    print('foo:', x) # foo : 20\n",
    "    def bar():\n",
    "        a = 30 # L\n",
    "        print('bar:', a, x, y) # bar : 30 20 11\n",
    "    bar()\n",
    "foo()"
   ]
  },
  {
   "cell_type": "code",
   "execution_count": null,
   "metadata": {},
   "outputs": [],
   "source": []
  }
 ],
 "metadata": {
  "kernelspec": {
   "display_name": "Python 3",
   "language": "python",
   "name": "python3"
  },
  "language_info": {
   "codemirror_mode": {
    "name": "ipython",
    "version": 3
   },
   "file_extension": ".py",
   "mimetype": "text/x-python",
   "name": "python",
   "nbconvert_exporter": "python",
   "pygments_lexer": "ipython3",
   "version": "3.7.4"
  }
 },
 "nbformat": 4,
 "nbformat_minor": 2
}
