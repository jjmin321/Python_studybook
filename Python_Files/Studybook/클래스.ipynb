{
 "cells": [
  {
   "cell_type": "markdown",
   "metadata": {},
   "source": [
    "클래스(class)\n",
    "파이썬 클래스 관련 용어\n",
    "클래스 : class 문으로 정의하며, 멤버와 메서드를 가지는 객체이다. 새로운 이름 공간을 갖는 단위\n",
    "클래스 객체(Class object) : 클래스와 같은 의미\n",
    "\n",
    "클래스 인스턴스(Class instance): 클래스를 호출하여 생성된 객체\n",
    "클래스 인스턴스 객체(Class object instance): 클래스 인스턴스와 같은 의미, 인스턴스 객체라고 부르기도 한다.\n",
    "\n",
    "멤버(Member) : 클래스 혹은 클래스 인스턴스 공간에 정의된 변수\n",
    "메서드(Method) : 클래스 공간에 정의된 함수, def로 정의\n",
    "\n",
    "속성(Attribute) : 멤버와 메서드 전체를 가리킨다\n",
    "\n",
    "상속(Inheritance) : 상위클래스의 속성과 행동을 그대로 받아들이고 추가로 필요한 기능을 덧붙이는 것 \n",
    "- 부모가 슈퍼맨이라면 아들도 슈퍼맨이고 추가적인 기능까지 가질 수 있다."
   ]
  },
  {
   "cell_type": "code",
   "execution_count": 19,
   "metadata": {},
   "outputs": [
    {
     "name": "stdout",
     "output_type": "stream",
     "text": [
      "<class '__main__.Simple'>\n",
      "<__main__.Simple object at 0x105fe5b50>\n",
      "<__main__.Simple object at 0x105fe5dd0>\n"
     ]
    }
   ],
   "source": [
    "# 클래스와 클래스 인스턴스 객체의 생성\n",
    "# class 클래스 이름 :\n",
    "#          속성...\n",
    "class Simple:\n",
    "    pass\n",
    "print(Simple)\n",
    "s1 = Simple()\n",
    "print(s1)\n",
    "s2 = Simple()\n",
    "print(s2)\n",
    "\n",
    "# GO는 가비지컬렉터가 있는 반면, 파이썬은 없어서 직접 클래스를 삭제해야한다고 한다.\n",
    "del s1 # 객체의 삭제. 파이썬에서는 직접 삭제시킬 필요가 있다."
   ]
  },
  {
   "cell_type": "code",
   "execution_count": 37,
   "metadata": {},
   "outputs": [
    {
     "name": "stdout",
     "output_type": "stream",
     "text": [
      "100\n",
      "200\n",
      "200\n",
      "300\n",
      "200\n"
     ]
    }
   ],
   "source": [
    "# 멤버 접근 : 클래스 멤버와 인스턴스 멤버\n",
    "# (1) 클래스 멤버의 구현과 접근 방법\n",
    "\n",
    "# Go의 구조체랑 Python의 클래스가 같은 개념인 거 같다\n",
    "class MyClass: # type Myclass struct\n",
    "    cl_mem = 100\n",
    "    cl_list = [1,2,3,4]\n",
    "    a = 'Hi'\n",
    "print(MyClass.cl_mem) # 100\n",
    "MyClass.cl_mem = 200\n",
    "print(MyClass.cl_mem) # 200\n",
    " \n",
    "# 인스턴스 객체를 통해서 접근\n",
    "ml = MyClass()\n",
    "print(ml.cl_mem) # 200\n",
    "ml.cl_mem = 300\n",
    "print(ml.cl_mem) # 300\n",
    "print(MyClass.cl_mem) # 200"
   ]
  },
  {
   "cell_type": "code",
   "execution_count": 54,
   "metadata": {},
   "outputs": [
    {
     "name": "stdout",
     "output_type": "stream",
     "text": [
      "MyClass2의 생성자가 호출되었어요\n",
      "MyClass2의 소멸자가 호출되었어요\n",
      "get is called!\n",
      "(0, [0], 0)\n",
      "set is called!\n",
      "get is called!\n",
      "(30, [1, 2, 3], 100)\n"
     ]
    }
   ],
   "source": [
    "# (2) 인스턴스 멤버의 구현과 접근 방법\n",
    "# 클래스의 메서드 내에 구현한 멤버\n",
    "class MyClass2 :\n",
    "    def __init__(self) : # 생성자, 인스턴스객체를 생성할 때 자동으로 호출\n",
    "        print(\"MyClass2의 생성자가 호출되었어요\")\n",
    "        self.in_mem = 0 # 인스턴스 멤버\n",
    "        self.in_list = [0] # 인스턴스 멤버\n",
    "        self.a = 0 # 인스턴스 멤버\n",
    "        \n",
    "    def set(self, var) : # 메서드\n",
    "        print(\"set is called!\")\n",
    "        self.in_mem = var\n",
    "        self.in_list = [1,2,3]\n",
    "        self.a = 100\n",
    "        \n",
    "    def get(self) : # 메서드\n",
    "        print(\"get is called!\")\n",
    "        return self.in_mem, self.in_list, self.a\n",
    "    \n",
    "    def __del__(self) : # 소멸자 , 파이썬에서는 소멸자 구현이 필요하지 않음\n",
    "        print(\"MyClass2의 소멸자가 호출되었어요\")\n",
    "        \n",
    "m2 = MyClass2() # 생성자 호출\n",
    "print(m2.get()) # 0 0 0 반환\n",
    "m2.set(30) # var [1,2,3] 100 대입\n",
    "print(m2.get()) # var [1,2,3] 100 반환\n"
   ]
  },
  {
   "cell_type": "code",
   "execution_count": null,
   "metadata": {},
   "outputs": [],
   "source": []
  }
 ],
 "metadata": {
  "kernelspec": {
   "display_name": "Python 3",
   "language": "python",
   "name": "python3"
  },
  "language_info": {
   "codemirror_mode": {
    "name": "ipython",
    "version": 3
   },
   "file_extension": ".py",
   "mimetype": "text/x-python",
   "name": "python",
   "nbconvert_exporter": "python",
   "pygments_lexer": "ipython3",
   "version": "3.7.4"
  }
 },
 "nbformat": 4,
 "nbformat_minor": 2
}
