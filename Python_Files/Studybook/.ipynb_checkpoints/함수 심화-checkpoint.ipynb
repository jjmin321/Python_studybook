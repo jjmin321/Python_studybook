{
 "cells": [
  {
   "cell_type": "markdown",
   "metadata": {},
   "source": [
    "# 1.함수의 인수의 개수가 고정되지 않은 인수의 처리방법\n",
    "- *변수 : 튜플 형식"
   ]
  },
  {
   "cell_type": "code",
   "execution_count": 19,
   "metadata": {},
   "outputs": [
    {
     "name": "stdout",
     "output_type": "stream",
     "text": [
      "<class 'tuple'>\n",
      "15\n",
      "<class 'tuple'>\n",
      "60\n",
      "<class 'tuple'>\n",
      "280\n"
     ]
    }
   ],
   "source": [
    "def add_many(a,b,*args):\n",
    "    total = a + b\n",
    "    print(type(args))\n",
    "    for k in args:\n",
    "        total += k\n",
    "    return total\n",
    "print(add_many(1,2,3,4,5))\n",
    "print(add_many(10,20,30))\n",
    "print(add_many(10,20,30,40,50,60,70))"
   ]
  },
  {
   "cell_type": "markdown",
   "metadata": {},
   "source": [
    "# 2.함수의 인수의 개수가 고정되지 않은 인수의 처리방법\n",
    "- **변수 : dict 형식"
   ]
  },
  {
   "cell_type": "code",
   "execution_count": 24,
   "metadata": {},
   "outputs": [
    {
     "name": "stdout",
     "output_type": "stream",
     "text": [
      "10 20\n",
      "<class 'dict'> {'depth': 5, 'dimension': 7}\n"
     ]
    }
   ],
   "source": [
    "def func(width,height,**kw):\n",
    "    print(width,height)\n",
    "    print(type(kw), kw) # <class 'dict'> {'depth': 5, 'dimension': 7}\n",
    "func(width = 10, height = 20, depth = 5, dimension = 7)"
   ]
  },
  {
   "cell_type": "markdown",
   "metadata": {},
   "source": [
    "# 3. 함수사용시 변수의 유효 범위 규칙(Scope Rule)\n",
    "- LEGB 규칙 : Local > Enclosing Function Local > Global > Built-in"
   ]
  },
  {
   "cell_type": "code",
   "execution_count": 47,
   "metadata": {},
   "outputs": [
    {
     "name": "stdout",
     "output_type": "stream",
     "text": [
      "foo: 20\n",
      "bar: 30 20 11\n"
     ]
    }
   ],
   "source": [
    "x = 10 # G\n",
    "y = 11 # G\n",
    "def foo():\n",
    "    x = 20 # L\n",
    "    foo_list = [\"진우\", \"주엽\"] # L\n",
    "    print('foo:', x) # foo : 20\n",
    "    def bar():\n",
    "        a = 30 # L\n",
    "        print('bar:', a, x, y) # bar : 30 20 11\n",
    "    bar()\n",
    "foo()"
   ]
  },
  {
   "cell_type": "markdown",
   "metadata": {},
   "source": [
    "# 4. 일급함수 (First Class Function)"
   ]
  },
  {
   "cell_type": "code",
   "execution_count": 48,
   "metadata": {},
   "outputs": [],
   "source": [
    "# (1) 함수 객체를 다른 함수의 인수로 전달가능\n",
    "# (2) 함수 객체를 반환값으로 전달 가능\n",
    "# (3) 함수 객체를 다른 자료구조에 저장해서 사용 가능"
   ]
  },
  {
   "cell_type": "code",
   "execution_count": 49,
   "metadata": {},
   "outputs": [
    {
     "name": "stdout",
     "output_type": "stream",
     "text": [
      "func_two is called!!\n",
      "add_two is called!\n"
     ]
    }
   ],
   "source": [
    "# 반환값에 대한 정보를 함수선언 때 안 해준다는 게 GO와는 다른 것 같음\n",
    "def add_two(a, b):\n",
    "    print('add_two is called!')\n",
    "    return a + b\n",
    "# 함수를 다른 함수의 인자로 주는 게 GO랑 똑같은 거 같음\n",
    "def func_two(func, a, b):\n",
    "    print('func_two is called!!')\n",
    "    result = func(a,b)\n",
    "    return result\n",
    "result = func_two(add_two, 10, 20)"
   ]
  },
  {
   "cell_type": "code",
   "execution_count": 50,
   "metadata": {},
   "outputs": [
    {
     "name": "stdout",
     "output_type": "stream",
     "text": [
      "60\n",
      "-40\n"
     ]
    }
   ],
   "source": [
    "def add(a,b):\n",
    "    c = a + b\n",
    "    return c\n",
    "\n",
    "def subtract(a,b):\n",
    "    c = a-b\n",
    "    return c\n",
    "\n",
    "def multiply(a,b):\n",
    "    c = a * b\n",
    "    return c\n",
    "\n",
    "def divide(a,b):\n",
    "    c = a/b\n",
    "    return c\n",
    "\n",
    "func_list = [add,subtract,multiply,divide]\n",
    "result = func_list[0](10,50) # add(10,50)\n",
    "print(result)\n",
    "result = func_list[1](10,50) # subtract(10,50)\n",
    "print(result)"
   ]
  },
  {
   "cell_type": "markdown",
   "metadata": {},
   "source": [
    "# 람다함수(lambda)"
   ]
  },
  {
   "cell_type": "code",
   "execution_count": 60,
   "metadata": {},
   "outputs": [
    {
     "name": "stdout",
     "output_type": "stream",
     "text": [
      "50\n",
      "[2, 5, 10, 17]\n",
      "[2, 5, 10, 17]\n",
      "[2, 5, 10, 17]\n",
      "[2, 5, 10, 17]\n",
      "[3, 13, 37, 81]\n"
     ]
    }
   ],
   "source": [
    "# 함수명 = lambda <인수1>,<인수2>, ...: <반환할 식>\n",
    "# GO에는 람다함수라는 게 없는데 파이썬에는 있다고 한다(간단한 함수식에서 많이 쓴다고함)\n",
    "add_new = lambda a,b : a + b\n",
    "print(add_new(30,20))\n",
    "\n",
    "def f1(x):\n",
    "    return x*x + 1\n",
    "def g(func):\n",
    "    return [func(x) for x in range(1,5)]\n",
    "\n",
    "print([f1(x) for x in range(1,5)])\n",
    "print([f1(1),f1(2),f1(3),f1(4)])\n",
    "print(g(f1))\n",
    "print(g(lambda x : x*x + 1))\n",
    "print(g(lambda x : x**3 + x*x + 1))"
   ]
  },
  {
   "cell_type": "code",
   "execution_count": null,
   "metadata": {},
   "outputs": [],
   "source": []
  }
 ],
 "metadata": {
  "kernelspec": {
   "display_name": "Python 3",
   "language": "python",
   "name": "python3"
  },
  "language_info": {
   "codemirror_mode": {
    "name": "ipython",
    "version": 3
   },
   "file_extension": ".py",
   "mimetype": "text/x-python",
   "name": "python",
   "nbconvert_exporter": "python",
   "pygments_lexer": "ipython3",
   "version": "3.7.4"
  }
 },
 "nbformat": 4,
 "nbformat_minor": 2
}
