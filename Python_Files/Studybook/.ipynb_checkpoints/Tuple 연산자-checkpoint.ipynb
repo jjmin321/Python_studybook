{
 "cells": [
  {
   "cell_type": "markdown",
   "metadata": {},
   "source": [
    "# 튜플(tuple)\n",
    "- 불변형(immutable), 시퀀스, () 소괄호 사용 "
   ]
  },
  {
   "cell_type": "code",
   "execution_count": 4,
   "metadata": {},
   "outputs": [
    {
     "name": "stdout",
     "output_type": "stream",
     "text": [
      "(1, 2, 3, 4, 5, 6, 7)\n",
      "<class 'tuple'>\n"
     ]
    }
   ],
   "source": [
    "a = (1,2,3,4,5,6,7)\n",
    "print(a)\n",
    "print(type(a))"
   ]
  },
  {
   "cell_type": "markdown",
   "metadata": {},
   "source": [
    "# 인덱싱(indexing)"
   ]
  },
  {
   "cell_type": "code",
   "execution_count": 16,
   "metadata": {},
   "outputs": [
    {
     "name": "stdout",
     "output_type": "stream",
     "text": [
      "1 2 7\n",
      "(10, 2, 3, 4, 5, 6, 7)\n",
      "<class 'tuple'>\n"
     ]
    }
   ],
   "source": [
    "print(a[0], a[1], a[-1])\n",
    "# a[0] = 10 # Error , tuple은 값 못 바꿈\n",
    "b = list(a) # list로 형 변환\n",
    "b[0] = 10\n",
    "b = tuple(b) # tuple로 형 변환\n",
    "print(b)\n",
    "print(type(b))"
   ]
  },
  {
   "cell_type": "markdown",
   "metadata": {},
   "source": [
    "# 슬라이싱(slicing)"
   ]
  },
  {
   "cell_type": "code",
   "execution_count": 17,
   "metadata": {},
   "outputs": [
    {
     "name": "stdout",
     "output_type": "stream",
     "text": [
      "(1, 2)\n",
      "(1, 3, 5, 7)\n",
      "(7, 6, 5, 4, 3, 2, 1)\n"
     ]
    }
   ],
   "source": [
    "print(a[0:2])\n",
    "print(a[::2])\n",
    "print(a[::-1])"
   ]
  },
  {
   "cell_type": "markdown",
   "metadata": {},
   "source": [
    "# 패킹(Packing), 언패킹 (Unpacking)"
   ]
  },
  {
   "cell_type": "code",
   "execution_count": 28,
   "metadata": {},
   "outputs": [
    {
     "name": "stdout",
     "output_type": "stream",
     "text": [
      "<class 'tuple'>\n",
      "1 2 (1, 2)\n",
      "<class 'tuple'>\n"
     ]
    }
   ],
   "source": [
    "t = 1, 2,(1, 2)# 패킹 (짐을 싼다)\n",
    "print(type(t))\n",
    "x,y,z = t # 언패킹 (짐을 푼다)\n",
    "print(x,y,z) \n",
    "print(type(z)) # 투플 안에 투플 넣을 수 있음"
   ]
  },
  {
   "cell_type": "markdown",
   "metadata": {},
   "source": [
    "# 확장된 언패킹"
   ]
  },
  {
   "cell_type": "code",
   "execution_count": 36,
   "metadata": {},
   "outputs": [
    {
     "name": "stdout",
     "output_type": "stream",
     "text": [
      "1 [2, 3, 4, 5]\n",
      "[1, 2, 3, 4] 5\n",
      "1 2 3 [4, 5]\n"
     ]
    }
   ],
   "source": [
    "t = (1,2,3,4,5)\n",
    "# a, b = t # Error\n",
    "a,b,_,_,_ = t # 3,4,5 를 언더바 사용해서 스킵 가능\n",
    "a,*b = t # 아스테리스크는 언패킹 안되는 것들 모두\n",
    "print(a, b) # 1 [2,3,4,5]\n",
    "*a, b = t\n",
    "print(a, b) # [1,2,3,4] 5\n",
    "a, b, c, *d = t\n",
    "# a, *b, *c = t # Error\n",
    "print(a,b,c,d) # 1 2 3 [4, 5]"
   ]
  },
  {
   "cell_type": "markdown",
   "metadata": {},
   "source": [
    "# 빈튜플 , 빈리스트"
   ]
  },
  {
   "cell_type": "code",
   "execution_count": 45,
   "metadata": {},
   "outputs": [
    {
     "name": "stdout",
     "output_type": "stream",
     "text": [
      "<class 'int'>\n",
      "<class 'tuple'>\n",
      "<class 'tuple'>\n"
     ]
    }
   ],
   "source": [
    "t = () #빈 튜플\n",
    "I = [] #빈 리스트\n",
    "\n",
    "t = (1)\n",
    "print(type(t)) # int\n",
    "t = (1,)\n",
    "print(type(t)) # tuple (튜플은 소괄호보다 쉼표가 중요함)\n",
    "t = 1,\n",
    "print(type(t)) # tuple (데이터가 1개만 있어도 쉼표가 있으면 튜플이다)"
   ]
  },
  {
   "cell_type": "markdown",
   "metadata": {},
   "source": [
    "# 연산자"
   ]
  },
  {
   "cell_type": "code",
   "execution_count": 53,
   "metadata": {},
   "outputs": [
    {
     "name": "stdout",
     "output_type": "stream",
     "text": [
      "(1, 2, 3, 'apple', 'banana')\n",
      "<class 'tuple'>\n",
      "(1, 2, 3, 'apple', 'banana', 1, 2, 3, 'apple', 'banana', 1, 2, 3, 'apple', 'banana')\n",
      "True\n"
     ]
    }
   ],
   "source": [
    "# 연산자\n",
    "t1 = (1,2,3)\n",
    "t2 = ('apple','banana')\n",
    "\n",
    "t3 = t1 + t2\n",
    "print(t3)\n",
    "print(type(t3))\n",
    "\n",
    "t4 = t3*3 # t4에 t3를 3번 넣음\n",
    "print(t4)\n",
    "print(1 in t4) # t4에 1이 있으면 True를 반환"
   ]
  },
  {
   "cell_type": "markdown",
   "metadata": {},
   "source": [
    "# Count()"
   ]
  },
  {
   "cell_type": "code",
   "execution_count": 58,
   "metadata": {},
   "outputs": [
    {
     "name": "stdout",
     "output_type": "stream",
     "text": [
      "3\n",
      "2\n"
     ]
    }
   ],
   "source": [
    "t = (1,2,3,2,2,3)\n",
    "print(t.count(2)) # 2가 몇 개 있는지 카운트해주는 함수\n",
    "print(t.index(3)) # 3이 몇 번째 인덱스에 있는지 알려주는 함수(최솟값)"
   ]
  },
  {
   "cell_type": "markdown",
   "metadata": {},
   "source": [
    "# 두 개의 값을 서로 변경하는 코드\n",
    "- x : 1 , y : 2"
   ]
  },
  {
   "cell_type": "code",
   "execution_count": 66,
   "metadata": {},
   "outputs": [
    {
     "name": "stdout",
     "output_type": "stream",
     "text": [
      "2 1\n"
     ]
    }
   ],
   "source": [
    "x, y = 1, 2\n",
    "x , y = y , x\n",
    "print(x, y)"
   ]
  },
  {
   "cell_type": "markdown",
   "metadata": {},
   "source": [
    "# Named tuple : 이름있는 튜플"
   ]
  },
  {
   "cell_type": "code",
   "execution_count": 85,
   "metadata": {},
   "outputs": [
    {
     "name": "stdout",
     "output_type": "stream",
     "text": [
      "point\n",
      "point(x=1.0, y=5.0)\n",
      "point(x=2, y=3)\n",
      "point(x='Hello', y='World')\n"
     ]
    }
   ],
   "source": [
    "from collections import namedtuple\n",
    "# 튜플을 숫자 인덱스가 아닌 이름으로 접근가능하다\n",
    "Point = namedtuple('point','x, y') # named tuple 클래스의 객체를 생성\n",
    "print(Point.__name__) # Point의 이름인 point 출력\n",
    "pt1 = Point(1.0,5.0)\n",
    "print(pt1)\n",
    "pt2 = Point(2,3) \n",
    "print(pt2)\n",
    "pt3 = Point(\"Hello\", \"World\")\n",
    "print(pt3)"
   ]
  },
  {
   "cell_type": "markdown",
   "metadata": {},
   "source": [
    "# 사전 (Dictionary), <class 'dict'>"
   ]
  },
  {
   "cell_type": "code",
   "execution_count": 124,
   "metadata": {},
   "outputs": [
    {
     "name": "stdout",
     "output_type": "stream",
     "text": [
      "홍길동\n",
      "30\n",
      "010-1234-1234\n",
      "2019-12-20\n",
      "{'name': '제정민', 'age': 30, 'phone': '010-1234-1234', 'birth': '2019-12-20'}\n",
      "{'name': '제정민', 'age': 30, 'phone': '010-1234-1234', 'birth': '2019-12-20', 'address': '대구소프트웨어고등학교'}\n",
      "{'name': '제정민', 'age': 30, 'phone': '010-1234-1234', 'birth': '2019-12-20'}\n",
      "{'name': '제정민', 'age': 30, 'phone': '010-1234-1234', 'birth': '2019-12-20', (1, 2, 3): '튜플데이터'}\n"
     ]
    }
   ],
   "source": [
    "# {key:value} , 연관형 , mutable(가변형), 순서가 없다\n",
    "# key는 반드시 immutable(불변형) 형이어야 한다.\n",
    "# value는 immutable, mutable 모두 가능\n",
    "# GO의 Map이랑 똑같음\n",
    "a = {\n",
    "    'name' : '홍길동',\n",
    "    'age' : 30,\n",
    "    'phone' : '010-1234-1234',\n",
    "    'birth' : '2019-12-20',\n",
    "}\n",
    "print(a[\"name\"])\n",
    "print(a[\"age\"])\n",
    "print(a[\"phone\"])\n",
    "print(a[\"birth\"])\n",
    "\n",
    "# 요소 수정, 추가, 제거\n",
    "a[\"name\"] = \"제정민\"\n",
    "print(a)\n",
    "a[\"address\"] = \"대구소프트웨어고등학교\"\n",
    "print(a)\n",
    "del(a[\"address\"])\n",
    "print(a)\n",
    "# a[[1,2,3]] = '리스트데이터' # 리스트는 mutable이라 키로 사용 못 함.\n",
    "a[(1,2,3)] = '튜플데이터'\n",
    "print(a)"
   ]
  },
  {
   "cell_type": "markdown",
   "metadata": {},
   "source": [
    "# Dictionary 연산자 "
   ]
  },
  {
   "cell_type": "code",
   "execution_count": 139,
   "metadata": {},
   "outputs": [
    {
     "name": "stdout",
     "output_type": "stream",
     "text": [
      "dict_keys(['name', 'age', 'phone', 'birth', (1, 2, 3)])\n",
      "dict_values(['제정민', 30, '010-1234-1234', '2019-12-20', '튜플데이터'])\n",
      "dict_items([('name', '제정민'), ('age', 30), ('phone', '010-1234-1234'), ('birth', '2019-12-20'), ((1, 2, 3), '튜플데이터')])\n",
      "제정민\n",
      "None\n",
      "독서\n"
     ]
    }
   ],
   "source": [
    "print(a.keys()) # a의 key값을 dict_keys 타입으로 반환\n",
    "print(a.values()) # a의 value값을 dict_values 타입으로 반환\n",
    "print(a.items()) # a의 key,value값을 dict_items 타입으로 반환\n",
    "print(a.get('name')) # == print(a['name']) \n",
    "print(a.get('hobby')) # print(a[hobby]) 는 에러가 남\n",
    "print(a.get('hobby','독서'))"
   ]
  },
  {
   "cell_type": "code",
   "execution_count": 155,
   "metadata": {},
   "outputs": [
    {
     "name": "stdout",
     "output_type": "stream",
     "text": [
      "{'name': '제정민', 'age': 30, 'phone': '010-1234-1234', 'birth': '2019-12-20', (1, 2, 3): '튜플데이터', 'ten': '10', 'gender': '남성'}\n",
      "{'name': '제정민', 'age': 30, 'phone': '010-1234-1234', 'birth': '2019-12-20', (1, 2, 3): '튜플데이터', 'ten': '10'}\n"
     ]
    }
   ],
   "source": [
    "d = {\n",
    "    'gender':'남성',\n",
    "    'ten':'10',\n",
    "}\n",
    "a.update(d) # 새로운 dict의 요소를 추가\n",
    "print(a)\n",
    "a.pop(\"gender\")\n",
    "print(a)"
   ]
  },
  {
   "cell_type": "markdown",
   "metadata": {},
   "source": [
    "# 사전 내장 (dict comprehension)"
   ]
  },
  {
   "cell_type": "code",
   "execution_count": 161,
   "metadata": {},
   "outputs": [
    {
     "name": "stdout",
     "output_type": "stream",
     "text": [
      "{'a': 1, 'b': 1, 'c': 1, 'd': 1, 'e': 1, 'f': 1, 'g': 1}\n",
      "{'name': '0', 'age': '0', 'phoner': '0', 'birth': '0', 10: '0'}\n"
     ]
    }
   ],
   "source": [
    "a = {k:1 for k in 'abcdefg'}\n",
    "print(a)\n",
    "\n",
    "b = ['name', 'age', 'phoner', 'birth', 10]\n",
    "a = {k:'0' for k in b}\n",
    "print(a)"
   ]
  },
  {
   "cell_type": "markdown",
   "metadata": {},
   "source": [
    "# 집합 (Set) , mutable(가변형), 순서가 없다, 중복을 허용하지 않는다"
   ]
  },
  {
   "cell_type": "code",
   "execution_count": 163,
   "metadata": {},
   "outputs": [
    {
     "name": "stdout",
     "output_type": "stream",
     "text": [
      "<class 'set'>\n"
     ]
    }
   ],
   "source": [
    "s = {1,2,3,4}\n",
    "print(type(s))"
   ]
  },
  {
   "cell_type": "code",
   "execution_count": 171,
   "metadata": {},
   "outputs": [
    {
     "name": "stdout",
     "output_type": "stream",
     "text": [
      "{8, 1, 4, 6}\n",
      "{1, 4, 6, 8, 10}\n",
      "{0, 1, 2, 4, 6, 8, 10}\n",
      "{1, 2, 4, 6, 8, 10}\n"
     ]
    }
   ],
   "source": [
    "s = {4,4,4,6,6,6,1,1,1,8,8,8}\n",
    "print(s)\n",
    "s.add(10)\n",
    "print(s)\n",
    "s.update([0,1,2])\n",
    "print(s)\n",
    "s.remove(0)\n",
    "print(s)"
   ]
  }
 ],
 "metadata": {
  "kernelspec": {
   "display_name": "Python 3",
   "language": "python",
   "name": "python3"
  },
  "language_info": {
   "codemirror_mode": {
    "name": "ipython",
    "version": 3
   },
   "file_extension": ".py",
   "mimetype": "text/x-python",
   "name": "python",
   "nbconvert_exporter": "python",
   "pygments_lexer": "ipython3",
   "version": "3.7.4"
  }
 },
 "nbformat": 4,
 "nbformat_minor": 2
}
