{
 "cells": [
  {
   "cell_type": "markdown",
   "metadata": {},
   "source": [
    "# 함수"
   ]
  },
  {
   "cell_type": "code",
   "execution_count": 13,
   "metadata": {},
   "outputs": [
    {
     "name": "stdout",
     "output_type": "stream",
     "text": [
      "f_1 is called\n",
      "f_2: 13 30\n",
      "f_2: 30 200\n",
      "None\n",
      "f_3 is called\n",
      "('Bread', 'Butter', 100)\n",
      "f_3 is called\n",
      "Bread\n",
      "f_4 is called\n",
      "(8, -2, 15, 0.6)\n"
     ]
    }
   ],
   "source": [
    "'''\n",
    "def 함수명(매개변수):\n",
    "    <수행할 문장1>\n",
    "    <수행할 문장2>\n",
    "    ...\n",
    "    return 반환할 값\n",
    "'''\n",
    "# 함수 구현 순서\n",
    "# (1) def를 사용하고 함수이름을 결정\n",
    "# (2) 매개변수(인자)를 결정\n",
    "# (3) 인자를 사용하여 처리하는 코드를 구현\n",
    "# (4) return을 사용하여 결과값을 반환\n",
    "# (5) 인자를 설정하여 함수를 호출하여 결과를 확인 \n",
    "\n",
    "# 함수 유형 4가지\n",
    "\n",
    "# [1] 반환값이 없고 인자가 없는 경우\n",
    "def f_1():\n",
    "    print(\"f_1 is called\")\n",
    "f_1()\n",
    "\n",
    "# [2] 반환값이 없고 인자가 있는 경우\n",
    "def f_2(a,b):\n",
    "    print('f_2:', a+b, a*b)\n",
    "f_2(10,3)\n",
    "\n",
    "def f_22(a=10,b=20): # 디폴트 인수\n",
    "    print('f_2:',a+b,a*b)\n",
    "print(f_22())\n",
    "# print(f_22(5,10)) 인자를 넣으면 가장 먼저 받는 반환값부터 바뀜\n",
    "\n",
    "# [3] 반환값이 있고 인자가 없는 경우\n",
    "def f_3():\n",
    "    print('f_3 is called')\n",
    "    return 'Bread', 'Butter', 100\n",
    "t = f_3()\n",
    "print(t)\n",
    "a,b,c = f_3()\n",
    "print(a)\n",
    "\n",
    "# [4] 반환값이 있고 인자가 있는 경우\n",
    "def f_4(a,b):\n",
    "    print('f_4 is called')\n",
    "    return a+b, a-b, a*b, a/b\n",
    "print(f_4(3,5))"
   ]
  },
  {
   "cell_type": "code",
   "execution_count": 2,
   "metadata": {},
   "outputs": [],
   "source": [
    "def add(a,b):\n",
    "    c = a + b\n",
    "    return c\n",
    "\n",
    "def subtract(a,b):\n",
    "    c = a-b\n",
    "    return c\n",
    "\n",
    "def multiply(a,b):\n",
    "    c = a * b\n",
    "    return c\n",
    "\n",
    "def divide(a,b):\n",
    "    c = a/b\n",
    "    return c"
   ]
  },
  {
   "cell_type": "code",
   "execution_count": 7,
   "metadata": {},
   "outputs": [
    {
     "name": "stdout",
     "output_type": "stream",
     "text": [
      "30\n",
      "10\n",
      "200\n",
      "2\n",
      "helloworld\n",
      "hellohellohello\n"
     ]
    }
   ],
   "source": [
    "print(add(20,10))\n",
    "print(subtract(20,10))\n",
    "print(multiply(20,10))\n",
    "print(round(divide(20,10)))\n",
    "print(add('hello','world'))\n",
    "print(multiply('hello',3))"
   ]
  },
  {
   "cell_type": "markdown",
   "metadata": {},
   "source": [
    "# 2개의 정수에 대해 큰 수, 작은 수의 순서로 반환하는 함수"
   ]
  },
  {
   "cell_type": "code",
   "execution_count": 14,
   "metadata": {},
   "outputs": [
    {
     "name": "stdout",
     "output_type": "stream",
     "text": [
      "(5, 3)\n"
     ]
    }
   ],
   "source": [
    "def order(a, b):\n",
    "    if a<b:\n",
    "        return b, a\n",
    "    return a, b\n",
    "print(order(3,5))"
   ]
  },
  {
   "cell_type": "markdown",
   "metadata": {},
   "source": [
    "# 2개의 정수에 대해 큰 값을 반환하는 함수"
   ]
  },
  {
   "cell_type": "code",
   "execution_count": 15,
   "metadata": {},
   "outputs": [
    {
     "name": "stdout",
     "output_type": "stream",
     "text": [
      "17\n"
     ]
    }
   ],
   "source": [
    "def max(a, b):\n",
    "    if a>=b:\n",
    "        return a\n",
    "    else:\n",
    "        return b\n",
    "print(max(17,15))"
   ]
  },
  {
   "cell_type": "markdown",
   "metadata": {},
   "source": [
    "# 2개의 정수에 대해 평균을 구하는 함수"
   ]
  },
  {
   "cell_type": "code",
   "execution_count": 25,
   "metadata": {},
   "outputs": [
    {
     "name": "stdout",
     "output_type": "stream",
     "text": [
      "7.666666666666667\n"
     ]
    }
   ],
   "source": [
    "def mean(l):\n",
    "    return sum(l)/len(l)\n",
    "print(mean([5,6,12]))"
   ]
  },
  {
   "cell_type": "code",
   "execution_count": null,
   "metadata": {},
   "outputs": [],
   "source": []
  }
 ],
 "metadata": {
  "kernelspec": {
   "display_name": "Python 3",
   "language": "python",
   "name": "python3"
  },
  "language_info": {
   "codemirror_mode": {
    "name": "ipython",
    "version": 3
   },
   "file_extension": ".py",
   "mimetype": "text/x-python",
   "name": "python",
   "nbconvert_exporter": "python",
   "pygments_lexer": "ipython3",
   "version": "3.7.4"
  }
 },
 "nbformat": 4,
 "nbformat_minor": 2
}
