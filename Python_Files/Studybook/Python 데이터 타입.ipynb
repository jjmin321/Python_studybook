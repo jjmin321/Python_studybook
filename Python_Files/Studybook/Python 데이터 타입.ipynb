{
 "cells": [
  {
   "cell_type": "markdown",
   "metadata": {},
   "source": [
    "# 파이썬 숫자형"
   ]
  },
  {
   "cell_type": "markdown",
   "metadata": {},
   "source": [
    "# 정수형 (int)\n",
    "\n"
   ]
  },
  {
   "cell_type": "code",
   "execution_count": 31,
   "metadata": {},
   "outputs": [
    {
     "name": "stdout",
     "output_type": "stream",
     "text": [
      "12345\n"
     ]
    },
    {
     "data": {
      "text/plain": [
       "100"
      ]
     },
     "execution_count": 31,
     "metadata": {},
     "output_type": "execute_result"
    }
   ],
   "source": [
    "a = 12345\n",
    "b = 100\n",
    "print(a)\n",
    "a\n",
    "b"
   ]
  },
  {
   "cell_type": "markdown",
   "metadata": {},
   "source": [
    "# 실수형 (float)"
   ]
  },
  {
   "cell_type": "code",
   "execution_count": 32,
   "metadata": {},
   "outputs": [
    {
     "name": "stdout",
     "output_type": "stream",
     "text": [
      "12345\n",
      "0b1111\n",
      "0xf\n",
      "0o17\n"
     ]
    },
    {
     "data": {
      "text/plain": [
       "int"
      ]
     },
     "execution_count": 32,
     "metadata": {},
     "output_type": "execute_result"
    }
   ],
   "source": [
    "print(int(a))\n",
    "print(bin(15))\n",
    "print(hex(15))\n",
    "print(oct(15))\n",
    "type(a)"
   ]
  },
  {
   "cell_type": "markdown",
   "metadata": {},
   "source": [
    "# 객체"
   ]
  },
  {
   "cell_type": "code",
   "execution_count": 43,
   "metadata": {},
   "outputs": [
    {
     "name": "stdout",
     "output_type": "stream",
     "text": [
      "0x103a87830\n",
      "0x103a87970\n",
      "0x103a87970\n",
      "0x103a87830\n"
     ]
    }
   ],
   "source": [
    "# 30이라는 주소, 40이라는 주소가 있고 a는 변수이지만 30이라는 주소를 가리키는 것과도 같다\n",
    "a = 30\n",
    "print(hex(id(a)))\n",
    "b = 40\n",
    "print(hex(id(b)))\n",
    "a = b\n",
    "print(hex(id(a)))\n",
    "a = 30\n",
    "print(hex(id(a)))"
   ]
  },
  {
   "cell_type": "markdown",
   "metadata": {},
   "source": [
    "# 사칙연산 : + , - , * , / , % , // , ** "
   ]
  },
  {
   "cell_type": "code",
   "execution_count": 1,
   "metadata": {},
   "outputs": [
    {
     "name": "stdout",
     "output_type": "stream",
     "text": [
      "10 3 13 7 30 3.3333333333333335 1 3 1000\n"
     ]
    }
   ],
   "source": [
    "a = 10\n",
    "b = 3\n",
    "c = a+b # 더하기\n",
    "d = a-b # 빼기\n",
    "e = a*b # 곱하기\n",
    "f = a/b # 나누기\n",
    "g = a%b # 나머지\n",
    "h = a//b # 정수 몫\n",
    "i = a**b # a의 b제곱\n",
    "print(a, b, c, d, e, f, g, h, i)\n"
   ]
  },
  {
   "cell_type": "markdown",
   "metadata": {},
   "source": [
    "# 표준 입출력"
   ]
  },
  {
   "cell_type": "markdown",
   "metadata": {},
   "source": [
    "#### 표준입력 : 변수 = input(\"문자열\")"
   ]
  },
  {
   "cell_type": "code",
   "execution_count": 25,
   "metadata": {},
   "outputs": [
    {
     "name": "stdout",
     "output_type": "stream",
     "text": [
      "hi\n",
      "hi\n"
     ]
    }
   ],
   "source": [
    "a = input() # input()로 디버깅(브레이크 포인트)을 설정해줄수도 있음. \n",
    "print(a)"
   ]
  },
  {
   "cell_type": "code",
   "execution_count": 5,
   "metadata": {},
   "outputs": [
    {
     "name": "stdout",
     "output_type": "stream",
     "text": [
      "수학점수:80\n",
      "영어점수:90\n",
      "170\n"
     ]
    }
   ],
   "source": [
    "math = input('수학점수:')\n",
    "english = input(\"영어점수:\")\n",
    "total = int(math) + int(english)\n",
    "print(total)"
   ]
  },
  {
   "cell_type": "markdown",
   "metadata": {},
   "source": [
    "#### 표준출력 : print(\"문자열\")"
   ]
  },
  {
   "cell_type": "code",
   "execution_count": 13,
   "metadata": {},
   "outputs": [
    {
     "name": "stdout",
     "output_type": "stream",
     "text": [
      "add: 9 sub: 2\n",
      "1 2\n",
      "3 4\n"
     ]
    }
   ],
   "source": [
    "print('add:', 4+5, 'sub:', 4-2)\n",
    "print(1,2);print(3,4) # 마지막에 자동으로 \\n이 붙는다. (써도 됨)"
   ]
  },
  {
   "cell_type": "code",
   "execution_count": 21,
   "metadata": {},
   "outputs": [
    {
     "name": "stdout",
     "output_type": "stream",
     "text": [
      "1 2 3 4\n"
     ]
    }
   ],
   "source": [
    "print(1,2,end = ' ') # print문 마지막에 end = ' '로 추가 구문을 넣을 수 있음\n",
    "print(3,4)"
   ]
  },
  {
   "cell_type": "code",
   "execution_count": 23,
   "metadata": {},
   "outputs": [
    {
     "name": "stdout",
     "output_type": "stream",
     "text": [
      "5:6:7\n"
     ]
    }
   ],
   "source": [
    "print(5,6,7,sep=':') #print문 마지막에 sep = ' '로 사이 구문을 넣을 수 있음"
   ]
  },
  {
   "cell_type": "markdown",
   "metadata": {},
   "source": [
    "# Print formatting"
   ]
  },
  {
   "cell_type": "code",
   "execution_count": 32,
   "metadata": {},
   "outputs": [
    {
     "name": "stdout",
     "output_type": "stream",
     "text": [
      "int형: 10\n",
      "float형: 1.234000\n",
      "string형: Hello Python\n",
      "string형: 10\n",
      "string형: Hello Python , int형: 10\n"
     ]
    }
   ],
   "source": [
    "num_1 = 10\n",
    "num_2 = 1.234\n",
    "str_1 = \"Hello Python\"\n",
    "print(\"int형: %d\"%num_1) # %d는 정수형\n",
    "print(\"float형: %f\"%num_2) # %f는 실수형\n",
    "print(\"string형: %s\"%str_1) # %s는 문자형\n",
    "print(\"string형: %s\"%num_1) # 정수를 문자형에 넣으면 정수가 문자열로 바뀌어 출력됨\n",
    "# print(\"문자열: %d\"%str_1) # TypeError\n",
    "print(\"string형: %s , int형: %d\"%(str_1, num_1))"
   ]
  },
  {
   "cell_type": "markdown",
   "metadata": {},
   "source": [
    "# Format() 함수"
   ]
  },
  {
   "cell_type": "code",
   "execution_count": 76,
   "metadata": {},
   "outputs": [
    {
     "name": "stdout",
     "output_type": "stream",
     "text": [
      "1.234567\n",
      "apple 7.77\n",
      "7.77 apple\n",
      "apple apple\n",
      "7.77 7.77\n",
      "apple      7.77\n",
      "     apple 7.77\n",
      "  apple    7.77\n",
      "apple===== 7.77\n",
      "=====apple 7.77\n",
      "==apple=== 7.77\n"
     ]
    }
   ],
   "source": [
    "print(format(1.234567, \"7.6f\")) # 전체 7자리, 소숫점 6자리\n",
    "\n",
    "print('{0} {1}'.format('apple',7.77))\n",
    "print('{1} {0}'.format('apple',7.77))\n",
    "print('{0} {0}'.format('apple',7.77))\n",
    "print('{1} {1}'.format('apple',7.77))\n",
    "\n",
    "print('{0:<10}{1:5.2f}'.format('apple',7.77))\n",
    "print('{0:>10}{1:5.2f}'.format('apple',7.77))\n",
    "print('{0:^10}{1:5.2f}'.format('apple',7.77))\n",
    "\n",
    "print('{0:=<10}{1:5.2f}'.format('apple',7.77))\n",
    "print('{0:=>10}{1:5.2f}'.format('apple',7.77))\n",
    "print('{0:=^10}{1:5.2f}'.format('apple',7.77))"
   ]
  },
  {
   "cell_type": "markdown",
   "metadata": {},
   "source": [
    "# 실습 1번 문제\n",
    "속도와 거리를 입력받아서 시간을 계산하여라"
   ]
  },
  {
   "cell_type": "code",
   "execution_count": 9,
   "metadata": {},
   "outputs": [
    {
     "name": "stdout",
     "output_type": "stream",
     "text": [
      "거리를 입력하세요 : 50\n",
      "속도를 입력하세요 : 5\n",
      "distance = 50, velocity = 5, time = 10\n",
      "distance = 50, velocity = 5, time = 10\n"
     ]
    }
   ],
   "source": [
    "distance = input(\"거리를 입력하세요 : \")\n",
    "velocity = input(\"속도를 입력하세요 : \")\n",
    "# time = int(distance) / int(velocity)\n",
    "time = eval(distance + '/' + velocity)\n",
    "print('{0} = {1}, {2} = {3}, {4} = {5}'.format('distance',distance,'velocity',velocity,'time',int(time)))\n",
    "print('{0} = {1}, {2} = {3}, {4} = {5}'.format('distance',distance,'velocity',velocity,'time',round(time)))"
   ]
  },
  {
   "cell_type": "markdown",
   "metadata": {},
   "source": [
    "# eval() 함수 : 문자열로 포현된 파이썬 식(expression)을 인자로 받아 인터프리터가 번역하여 실행하도록 한다"
   ]
  },
  {
   "cell_type": "code",
   "execution_count": 5,
   "metadata": {},
   "outputs": [
    {
     "data": {
      "text/plain": [
       "30"
      ]
     },
     "execution_count": 5,
     "metadata": {},
     "output_type": "execute_result"
    }
   ],
   "source": [
    "a = 10\n",
    "b = eval('a + 20')\n",
    "# b = eval('c = a + 20') # Error\n",
    "b"
   ]
  },
  {
   "cell_type": "markdown",
   "metadata": {},
   "source": [
    "# 문자열(String) : 불변형(immutable)"
   ]
  },
  {
   "cell_type": "code",
   "execution_count": 16,
   "metadata": {},
   "outputs": [
    {
     "name": "stdout",
     "output_type": "stream",
     "text": [
      "Hello Python\n",
      "<class 'str'>\n",
      "\n",
      "aaa\n",
      "\n"
     ]
    }
   ],
   "source": [
    "str1 = \"Hello Python\"\n",
    "print(str1)\n",
    "print(type(str1))\n",
    "str1 = \"Good Bye\"\n",
    "str2 = '''\n",
    "aaa\n",
    "'''\n",
    "print(str2)"
   ]
  },
  {
   "cell_type": "markdown",
   "metadata": {},
   "source": [
    "# 문자열의 인덱싱(indexing)과 슬라이싱(slicing)"
   ]
  },
  {
   "cell_type": "markdown",
   "metadata": {},
   "source": [
    "# 인덱싱 : 문자를 꺼내오는 것"
   ]
  },
  {
   "cell_type": "code",
   "execution_count": 17,
   "metadata": {},
   "outputs": [],
   "source": [
    "a = \"Life is too short, you need Python\""
   ]
  },
  {
   "cell_type": "code",
   "execution_count": 29,
   "metadata": {},
   "outputs": [
    {
     "name": "stdout",
     "output_type": "stream",
     "text": [
      "L i f n P i L\n"
     ]
    }
   ],
   "source": [
    "print(a[0],a[1],a[2],a[-1], a[-6], a[True], a[False]) # True : 1 , False : 0\n",
    "# a[0] 'R' # TypeError : 파이썬의 문자열은 불변형이다."
   ]
  },
  {
   "cell_type": "code",
   "execution_count": 31,
   "metadata": {},
   "outputs": [
    {
     "name": "stdout",
     "output_type": "stream",
     "text": [
      "Life\n"
     ]
    }
   ],
   "source": [
    "print(a[0]+a[1]+a[2]+a[3])"
   ]
  },
  {
   "cell_type": "markdown",
   "metadata": {},
   "source": [
    "# 슬라이싱 : 문자를 빼내는 것 - a[시작 : 끝 + 1] , a[시작 : 끝 + 1 : 스텝]"
   ]
  },
  {
   "cell_type": "code",
   "execution_count": 41,
   "metadata": {},
   "outputs": [
    {
     "name": "stdout",
     "output_type": "stream",
     "text": [
      "Life\n",
      "Lf st\n",
      "Life is too\n",
      " short, you need Python\n",
      "Life is too short, you need Pytho\n",
      "Lf stosot o edPto\n",
      "nohtyP deen uoy ,trohs oot si efiL\n",
      "Life is too short, you need Python\n"
     ]
    }
   ],
   "source": [
    "print(a[0:4])\n",
    "print(a[0:10:2])\n",
    "print(a[:11])\n",
    "print(a[11:])\n",
    "print(a[:-1])\n",
    "print(a[::2]) # 모든 문자열을 두 칸씩 띄워서 출력\n",
    "print(a[::-1])\n",
    "print(a[:]) # print(a)"
   ]
  },
  {
   "cell_type": "markdown",
   "metadata": {},
   "source": [
    "# 문자열 연산"
   ]
  },
  {
   "cell_type": "code",
   "execution_count": 59,
   "metadata": {},
   "outputs": [
    {
     "name": "stdout",
     "output_type": "stream",
     "text": [
      "first second \n",
      "first second first second first second first second first second \n",
      "13\n"
     ]
    }
   ],
   "source": [
    "s1 = \"first\"\n",
    "s2 = \"second\"\n",
    "s4 = 5\n",
    "s3 = s1 + \" \" + s2 + \" \"\n",
    "print(s3)\n",
    "print(s3*s4)\n",
    "print(len(s3))"
   ]
  },
  {
   "cell_type": "markdown",
   "metadata": {},
   "source": [
    "# 파이썬의 다양한 내장함수들"
   ]
  },
  {
   "cell_type": "code",
   "execution_count": 55,
   "metadata": {},
   "outputs": [
    {
     "name": "stdout",
     "output_type": "stream",
     "text": [
      "<class 'str'>\n",
      "I LIKE PROGRAMMING. I LIKE SWIMMING\n",
      "i like programming. i like swimming\n",
      "i like programming. i like swimming\n",
      "I Like Programming. I Like Swimming\n"
     ]
    }
   ],
   "source": [
    "a = \"i like programming. i like swimming\"\n",
    "print(type(a)) # <class 'str'>\n",
    "\n",
    "b = a.upper() # 대문자로 변환\n",
    "print(b)\n",
    "print(a) #원본은 그대로 유지\n",
    "\n",
    "c = b.lower() # 소문자로 변환\n",
    "print(c)\n",
    "d = c.title() # 단어의 첫글자만 대문자로 변환\n",
    "print(d)"
   ]
  },
  {
   "cell_type": "code",
   "execution_count": 60,
   "metadata": {},
   "outputs": [
    {
     "name": "stdout",
     "output_type": "stream",
     "text": [
      "2\n",
      "2\n",
      "-1\n",
      "22\n",
      "22\n",
      "True\n"
     ]
    }
   ],
   "source": [
    "num = a.count('like') # 문자의 사용횟수\n",
    "print(num) # 2\n",
    "\n",
    "num = a.find('like') # 문자의 위치 인덱스값을 반환\n",
    "print(num) # 2\n",
    "\n",
    "num = a.find('hello') # 없으면 -1을 반환\n",
    "print(num) # -1\n",
    "\n",
    "num = a.find('like',3) # 검색 시작위치를 3으로 지정\n",
    "print(num) # 22\n",
    "\n",
    "num = a.rfind('like') # 역순 검색, 뒤에서부터 검색\n",
    "print(num) # 22\n",
    "\n",
    "num = a.startswith('i like') # 'i like'로 시작하는 문자열인가?\n",
    "print(num) # True"
   ]
  },
  {
   "cell_type": "code",
   "execution_count": 69,
   "metadata": {},
   "outputs": [
    {
     "name": "stdout",
     "output_type": "stream",
     "text": [
      "spam and hams\n",
      "pam and ham\n",
      "pam and hams\n",
      "spam and ham\n"
     ]
    }
   ],
   "source": [
    "a = 'spam and hams'\n",
    "print(a)\n",
    "s = a.strip('s') # 왼, 오른쪽 끝에 있다면 제거 \n",
    "print(s)\n",
    "\n",
    "s = a.lstrip('s') # 왼쪽 끝에 있다면 제거\n",
    "print(s)\n",
    "\n",
    "s = a.rstrip('s') # 오른쪽 끝에 있다면 제거\n",
    "print(s)"
   ]
  },
  {
   "cell_type": "code",
   "execution_count": 70,
   "metadata": {},
   "outputs": [
    {
     "name": "stdout",
     "output_type": "stream",
     "text": [
      "['spam', 'and', 'hams']\n",
      "['spam ', ' hams']\n"
     ]
    }
   ],
   "source": [
    "s1 = a.split() # 공백으로 분리하고 리스트로 반환\n",
    "print(s1) # ['spam', 'and', 'hams']\n",
    "\n",
    "s = a.split('and') # and로 분리하고 리스트로 반환\n",
    "print(s) # ['spam ', ' hams']"
   ]
  },
  {
   "cell_type": "code",
   "execution_count": 72,
   "metadata": {},
   "outputs": [
    {
     "name": "stdout",
     "output_type": "stream",
     "text": [
      "spam:and:hams\n",
      "a:b:c:d:e:f:g\n",
      "Your leg is too short\n"
     ]
    }
   ],
   "source": [
    "s2 = ':'.join(s1) # 문자를 삽입\n",
    "print(s2) # spam:and:ham\n",
    "\n",
    "a = 'abcdefg'\n",
    "s2 = ':'.join(a)\n",
    "print(s2) # a:b:c:d:e:f:g\n",
    "\n",
    "a = 'Life is too short'\n",
    "b = a.replace('Life','Your leg' )\n",
    "print(b)"
   ]
  },
  {
   "cell_type": "code",
   "execution_count": 74,
   "metadata": {},
   "outputs": [
    {
     "name": "stdout",
     "output_type": "stream",
     "text": [
      "<class 'dict'>\n",
      "ganibabo\n",
      "miriooja\n"
     ]
    }
   ],
   "source": [
    "# maketrans() / translate()함수 :\n",
    "# 문자열을 mapping하여 변환한 결과를 얻을 수 있다.\n",
    "\n",
    "a = 'ㄱㄴㄷㄹㅁㅂㅅㅇㅈㅊㅋㅌㅍㅎ'\n",
    "b = 'ㅏㅔㅣㅗㅜ'\n",
    "c = 'gndrmbsojcktph'\n",
    "d = 'aeiou'\n",
    "kor = a + b\n",
    "eng = c + d\n",
    "\n",
    "transtable = ''.maketrans(kor,eng) # String클래스 안에 들어가 있는 함수라서 .을 사용(파이썬의 기본내장함수)\n",
    "print(type(transtable)) # <class 'dict'>\n",
    "\n",
    "result = 'ㄱㅏㄴㅣㅂㅏㅂㅗ'.translate(transtable)\n",
    "print(result)\n",
    "\n",
    "result = 'ㅁㅣㄹㅣㅇㅗㅈㅏ'.translate(transtable)\n",
    "print(result)"
   ]
  },
  {
   "cell_type": "markdown",
   "metadata": {},
   "source": [
    "# 리스트 (List) : mutable(가변형) , 시퀀스, 가장 유용한 자료형 , [ ] : 대괄호 사용"
   ]
  },
  {
   "cell_type": "code",
   "execution_count": 84,
   "metadata": {},
   "outputs": [
    {
     "name": "stdout",
     "output_type": "stream",
     "text": [
      "<class 'list'>\n"
     ]
    }
   ],
   "source": [
    "a = [1,2,3,4,5,6,7]\n",
    "print(type(a))"
   ]
  },
  {
   "cell_type": "markdown",
   "metadata": {},
   "source": [
    "# 인덱싱"
   ]
  },
  {
   "cell_type": "code",
   "execution_count": 85,
   "metadata": {},
   "outputs": [
    {
     "name": "stdout",
     "output_type": "stream",
     "text": [
      "1 2 3 7 6\n",
      "[8, 2, 3, 4, 5, 6, 7]\n"
     ]
    }
   ],
   "source": [
    "print(a[0], a[1], a[2], a[-1], a[-2])\n",
    "a[0] = 8 # 요소의 수정이 가능하다\n",
    "print(a)"
   ]
  },
  {
   "cell_type": "markdown",
   "metadata": {},
   "source": [
    "# 슬라이싱 "
   ]
  },
  {
   "cell_type": "code",
   "execution_count": 94,
   "metadata": {},
   "outputs": [
    {
     "name": "stdout",
     "output_type": "stream",
     "text": [
      "[2, 3]\n",
      "[1, 4, 7]\n",
      "[7, 6, 5, 4, 3, 2, 1]\n",
      "[1, 8, 9, 4, 5, 6, 7]\n",
      "[10]\n"
     ]
    }
   ],
   "source": [
    "a = [1,2,3,4,5,6,7]\n",
    "print(a[1:3])\n",
    "print(a[::3])\n",
    "print(a[::-1])\n",
    "\n",
    "a[1:3] = [8,9]\n",
    "print(a)\n",
    "\n",
    "a[:] = [10]\n",
    "print(a)"
   ]
  },
  {
   "cell_type": "markdown",
   "metadata": {},
   "source": [
    "# range(시작 : 끝+1 : 스텝)"
   ]
  },
  {
   "cell_type": "code",
   "execution_count": 108,
   "metadata": {},
   "outputs": [
    {
     "name": "stdout",
     "output_type": "stream",
     "text": [
      "[0, 1, 2, 3, 4, 5, 6, 7, 8, 9]\n",
      "[0, 1, 2, 3, 4, 5, 6, 7, 8, 9]\n",
      "[3, 4, 5, 6, 7, 8, 9]\n",
      "45\n",
      "9\n",
      "1\n"
     ]
    }
   ],
   "source": [
    "print(list(range(0,10,1)))\n",
    "print(list(range(10)))\n",
    "print(list(range(3, 10)))\n",
    "\n",
    "a = [1,2,3,4,5,6,7,8,9]\n",
    "print(sum(a))\n",
    "print(max(a))\n",
    "print(min(a))"
   ]
  },
  {
   "cell_type": "markdown",
   "metadata": {},
   "source": [
    "# List 연산자"
   ]
  },
  {
   "cell_type": "code",
   "execution_count": 116,
   "metadata": {},
   "outputs": [
    {
     "name": "stdout",
     "output_type": "stream",
     "text": [
      "[1, 2, 3, 3, 4, 5]\n",
      "18\n"
     ]
    }
   ],
   "source": [
    "a = [1,2,3]\n",
    "b = [3,4,5]\n",
    "c = a + b # 중복 허용\n",
    "print(c)\n",
    "c = sum(a) + sum(b)\n",
    "print(c)"
   ]
  },
  {
   "cell_type": "markdown",
   "metadata": {},
   "source": [
    "# for문"
   ]
  },
  {
   "cell_type": "code",
   "execution_count": 118,
   "metadata": {},
   "outputs": [
    {
     "name": "stdout",
     "output_type": "stream",
     "text": [
      "1\n",
      "3\n",
      "5\n",
      "7\n",
      "9\n",
      "total: 25\n"
     ]
    }
   ],
   "source": [
    "total = 0\n",
    "for k in range(1,11,2):\n",
    "    print(k)\n",
    "    total = total + k\n",
    "print('total:',total)"
   ]
  },
  {
   "cell_type": "markdown",
   "metadata": {},
   "source": [
    "# 리스트 내장 (List Comprehension)"
   ]
  },
  {
   "cell_type": "code",
   "execution_count": 120,
   "metadata": {},
   "outputs": [
    {
     "name": "stdout",
     "output_type": "stream",
     "text": [
      "[0, 1, 2, 3, 4, 5, 6, 7, 8, 9]\n"
     ]
    }
   ],
   "source": [
    "a = [k for k in range(10)]\n",
    "print(a) # [0,1,2,3,4,5,6,7,8,9]"
   ]
  },
  {
   "cell_type": "code",
   "execution_count": 123,
   "metadata": {},
   "outputs": [
    {
     "name": "stdout",
     "output_type": "stream",
     "text": [
      "[5, 6, 7]\n",
      "[3, 6]\n",
      "[1, 2, 4, 5, 7]\n"
     ]
    }
   ],
   "source": [
    "a = [1,2,3,4,5,6,7]\n",
    "b = [k for k in a if k > 4]\n",
    "print(b) # [5,6,7]\n",
    "c = [k for k in a if k % 3 == 0] # (k % 3 != 0 and k % 5 != 0)\n",
    "print(c) # [3, 6]\n",
    "d = [k for k in a if k % 3 != 0]\n",
    "print(d) # [1, 2, 4, 5, 7]"
   ]
  },
  {
   "cell_type": "code",
   "execution_count": null,
   "metadata": {},
   "outputs": [],
   "source": []
  },
  {
   "cell_type": "markdown",
   "metadata": {},
   "source": [
    "# 단축키 요약\n",
    "- Option + enter : 다음에 셀을 추가\n",
    "- Shift + enter : 다음 셀로 이동\n",
    "- Command + '/' : 주석문 처리/해제\n",
    "- Tab : 들여쓰기\n",
    "- Shift + Tab : 들여쓰기 해제"
   ]
  }
 ],
 "metadata": {
  "kernelspec": {
   "display_name": "Python 3",
   "language": "python",
   "name": "python3"
  },
  "language_info": {
   "codemirror_mode": {
    "name": "ipython",
    "version": 3
   },
   "file_extension": ".py",
   "mimetype": "text/x-python",
   "name": "python",
   "nbconvert_exporter": "python",
   "pygments_lexer": "ipython3",
   "version": "3.7.4"
  }
 },
 "nbformat": 4,
 "nbformat_minor": 2
}
