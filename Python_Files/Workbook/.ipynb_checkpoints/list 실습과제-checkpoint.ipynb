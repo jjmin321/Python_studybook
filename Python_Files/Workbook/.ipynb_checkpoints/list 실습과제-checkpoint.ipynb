{
 "cells": [
  {
   "cell_type": "markdown",
   "metadata": {},
   "source": [
    "# 1. 리스트에 '+', '-', '*', '/'를 저장해놓고 정수 2개를 입력받고 계산 방식은 정수로 입력받아 해당 연산을 수행하는 프로그램을 작성하시오(eval()함수를 사용하세요)"
   ]
  },
  {
   "cell_type": "code",
   "execution_count": 11,
   "metadata": {},
   "outputs": [
    {
     "name": "stdout",
     "output_type": "stream",
     "text": [
      "첫 번째 정수를 입력하세요 : 5\n",
      "두 번째 정수를 입력하세요 : 3\n",
      "0은 +, 1은 -, 2는 *, 3은 / 입니다 어떤 것을 고르실래요 : 3\n",
      "1.6666666666666667\n"
     ]
    }
   ],
   "source": [
    "a = ['+', '-', '*', '/']\n",
    "num1 = input('첫 번째 정수를 입력하세요 : ')\n",
    "num2 = input('두 번째 정수를 입력하세요 : ')\n",
    "num3 = input('0은 +, 1은 -, 2는 *, 3은 / 입니다 어떤 것을 고르실래요 : ')\n",
    "print(eval(num1 + a[int(num3)] + num2))"
   ]
  },
  {
   "cell_type": "markdown",
   "metadata": {},
   "source": [
    "# 2. 1 ~ n까지 합을 출력하는 프로그램을 리스트를 이용하여 작성하시오. (range(), sum()함수를 사용하세요, 최대값 n을 input()함수로 입력받아 사용하세요)"
   ]
  },
  {
   "cell_type": "code",
   "execution_count": 22,
   "metadata": {},
   "outputs": [
    {
     "name": "stdout",
     "output_type": "stream",
     "text": [
      "지정할 최댓값을 입력하세요 : 5\n",
      "mylist :  [1, 2, 3, 4, 5]\n",
      "15\n"
     ]
    }
   ],
   "source": [
    "n = input(\"지정할 최댓값을 입력하세요 : \")\n",
    "mylist = [k for k in range(1, int(n) + 1)]\n",
    "print(\"mylist : \", mylist)\n",
    "print(sum(mylist))"
   ]
  },
  {
   "cell_type": "markdown",
   "metadata": {},
   "source": [
    "# 3. 1 ~ n까지 짝수합과 홀수합을 출력하는 프로그램을 리스트를 이용하여 작성하시오.(최대값 n을 input()함수로 입력받아 사용하세요)"
   ]
  },
  {
   "cell_type": "code",
   "execution_count": 24,
   "metadata": {},
   "outputs": [
    {
     "name": "stdout",
     "output_type": "stream",
     "text": [
      "지정할 최대값을 입력하세요 : 5\n",
      "evenlist :  [2, 4]\n",
      "6\n",
      "oddlist :  [1, 3, 5]\n",
      "9\n"
     ]
    }
   ],
   "source": [
    "n = input(\"지정할 최대값을 입력하세요 : \")\n",
    "evenlist = [k for k in range(2, int(n) + 1, 2)]\n",
    "oddlist = [k for k in range(1, int(n) + 1, 2)]\n",
    "print(\"evenlist : \", evenlist)\n",
    "print(sum(evenlist))\n",
    "print(\"oddlist : \", oddlist)\n",
    "print(sum(oddlist))"
   ]
  },
  {
   "cell_type": "markdown",
   "metadata": {},
   "source": [
    "# 4. 1 ~ n까지 3의 배수와 5의 배수를 제외한 수를 출력하고 그 합을 출력하는 프로그램을 작성하시오. (최대값 n을 input()함수로 입력받아 사용하세요)"
   ]
  },
  {
   "cell_type": "code",
   "execution_count": 27,
   "metadata": {},
   "outputs": [
    {
     "name": "stdout",
     "output_type": "stream",
     "text": [
      "지정할 최대값을 입력하세요 : 50\n",
      "mylist :  [1, 2, 4, 7, 8, 11, 13, 14, 16, 17, 19, 22, 23, 26, 28, 29, 31, 32, 34, 37, 38, 41, 43, 44, 46, 47, 49]\n",
      "682\n"
     ]
    }
   ],
   "source": [
    "n = input(\"지정할 최대값을 입력하세요 : \")\n",
    "mylist = [k for k in range(1, int(n) + 1) if k % 3 != 0 and k % 5 != 0]\n",
    "print(\"mylist : \", mylist)\n",
    "print(sum(mylist))"
   ]
  }
 ],
 "metadata": {
  "kernelspec": {
   "display_name": "Python 3",
   "language": "python",
   "name": "python3"
  },
  "language_info": {
   "codemirror_mode": {
    "name": "ipython",
    "version": 3
   },
   "file_extension": ".py",
   "mimetype": "text/x-python",
   "name": "python",
   "nbconvert_exporter": "python",
   "pygments_lexer": "ipython3",
   "version": "3.7.4"
  }
 },
 "nbformat": 4,
 "nbformat_minor": 2
}
