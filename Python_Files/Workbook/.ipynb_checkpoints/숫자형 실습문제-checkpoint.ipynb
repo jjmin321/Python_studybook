{
 "cells": [
  {
   "cell_type": "markdown",
   "metadata": {},
   "source": [
    "# 1. 속도와 거리를 입력받아 시간을 계산하여 출력하는 프로그램 "
   ]
  },
  {
   "cell_type": "code",
   "execution_count": 12,
   "metadata": {},
   "outputs": [
    {
     "name": "stdout",
     "output_type": "stream",
     "text": [
      "거리를 입력해주세요 : 500\n",
      "속도를 입력해주세요 : 5\n",
      "변환 중입니다....\n",
      "\n",
      "distance(거리)인 500에 velocity(속도)인 5을 나누면 총 100time(시간)이 걸립니다.\n"
     ]
    }
   ],
   "source": [
    "distance = input('거리를 입력해주세요 : ')\n",
    "velocity = input('속도를 입력해주세요 : ')\n",
    "time = int(distance) / int(velocity)\n",
    "print(\"변환 중입니다....\\n\")\n",
    "print(\"{0}인 {1}에 {2}인 {3}을 나누면 총 {5}{4}이 걸립니다.\".format('distance(거리)', distance, 'velocity(속도)', velocity, 'time(시간)', round(time))) #int(time)"
   ]
  },
  {
   "cell_type": "markdown",
   "metadata": {},
   "source": [
    "# 2. 길이와 너비를 입력받아 면적과 둘레를 계산하여 출력하는 프로그램"
   ]
  },
  {
   "cell_type": "code",
   "execution_count": 11,
   "metadata": {},
   "outputs": [
    {
     "name": "stdout",
     "output_type": "stream",
     "text": [
      "길이를 입력해주세요 : 5\n",
      "너비를 입력해주세요 : 5\n",
      "변환 중입니다....\n",
      "\n",
      "area(면적)는 length(길이)인 5와 width(너비)인 5을 곱한 25이고 perimeter(둘레)는 length(길이)인 5에 2를 곱하고 width(너비)인 5에 2를 곱하여 더한 값인 20입니다\n"
     ]
    }
   ],
   "source": [
    "length = input('길이를 입력해주세요 : ')\n",
    "width = input('너비를 입력해주세요 : ')\n",
    "area = float(length) * float(width)\n",
    "perimeter = float(length) * 2 + float(width) * 2\n",
    "print(\"변환 중입니다....\\n\")\n",
    "print(\"{4}는 {0}인 {1}와 {2}인 {3}을 곱한 {5}이고 {6}는 {0}인 {1}에 2를 곱하고 {2}인 {3}에 2를 곱하여 더한 값인 {7}입니다\".format('length(길이)', length, 'width(너비)', width, 'area(면적)', round(area), 'perimeter(둘레)', round(perimeter)))"
   ]
  },
  {
   "cell_type": "markdown",
   "metadata": {},
   "source": [
    "# 3. 화씨 온도를 입력받아 섭씨 온도로 변환하는 프로그램 "
   ]
  },
  {
   "cell_type": "code",
   "execution_count": 16,
   "metadata": {},
   "outputs": [
    {
     "name": "stdout",
     "output_type": "stream",
     "text": [
      "화씨 온도를 입력해주세요 : 5.5\n",
      "변환 중입니다....\n",
      "\n",
      "fahrenheit(화씨 온도)인 5.5F를 celsius(섭씨 온도)로 바꾸면 -15C이 됩니다.\n"
     ]
    }
   ],
   "source": [
    "fahrenheit = input(\"화씨 온도를 입력해주세요 : \")\n",
    "celsius = (float(fahrenheit) - 32) / 1.8\n",
    "print(\"변환 중입니다....\\n\")\n",
    "print(\"{0}인 {1}F를 {2}로 바꾸면 {3}C이 됩니다.\".format('fahrenheit(화씨 온도)', fahrenheit, 'celsius(섭씨 온도)', round(celsius)))\n"
   ]
  },
  {
   "cell_type": "markdown",
   "metadata": {},
   "source": [
    "# 4. 두 수를 입력받아 덧셈, 뺄셈, 곱셈, 몫, 나머지를 출력하는 프로그램을 작성하세요"
   ]
  },
  {
   "cell_type": "code",
   "execution_count": 35,
   "metadata": {},
   "outputs": [
    {
     "name": "stdout",
     "output_type": "stream",
     "text": [
      "첫 번째 수를 입력해주세요 : 5\n",
      "두 번째 수를 입력해주세요 : 3\n",
      "더한 값 : 8\n",
      "뺀 값 : 2 또는 -2\n",
      "곱한 값 : 15\n",
      "나눈 값 : 1.6666666666666667 또는 0.0\n"
     ]
    }
   ],
   "source": [
    "num1 = input('첫 번째 수를 입력해주세요 : ')\n",
    "num2 = input('두 번째 수를 입력해주세요 : ')\n",
    "print(\"{0}{1}\\n{2}{3} {4} {5}\\n{6}{7}\\n{8}{9} {10} {11}\".format('더한 값 : ', int(num1)+int(num2), '뺀 값 : ', int(num1)-int(num2), '또는', int(num2)-int(num1),'곱한 값 : ', int(num1)*int(num2), '나눈 값 : ', float(num1)/float(num2), '또는', float(num2)//float(num1)))"
   ]
  },
  {
   "cell_type": "code",
   "execution_count": null,
   "metadata": {},
   "outputs": [],
   "source": []
  }
 ],
 "metadata": {
  "kernelspec": {
   "display_name": "Python 3",
   "language": "python",
   "name": "python3"
  },
  "language_info": {
   "codemirror_mode": {
    "name": "ipython",
    "version": 3
   },
   "file_extension": ".py",
   "mimetype": "text/x-python",
   "name": "python",
   "nbconvert_exporter": "python",
   "pygments_lexer": "ipython3",
   "version": "3.7.4"
  }
 },
 "nbformat": 4,
 "nbformat_minor": 2
}
