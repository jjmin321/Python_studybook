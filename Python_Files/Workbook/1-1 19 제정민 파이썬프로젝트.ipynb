{
 "cells": [
  {
   "cell_type": "code",
   "execution_count": 6,
   "metadata": {},
   "outputs": [],
   "source": [
    "import matplotlib as mpl\n",
    "import matplotlib.pyplot as plt"
   ]
  },
  {
   "cell_type": "code",
   "execution_count": 13,
   "metadata": {},
   "outputs": [
    {
     "data": {
      "image/png": "[encoded data removed]",
      "text/plain": [
       "<Figure size 432x288 with 1 Axes>"
      ]
     },
     "metadata": {
      "needs_background": "light"
     },
     "output_type": "display_data"
    },
    {
     "ename": "NameError",
     "evalue": "name 'time' is not defined",
     "output_type": "error",
     "traceback": [
      "\u001b[0;31m---------------------------------------------------------------------------\u001b[0m",
      "\u001b[0;31mNameError\u001b[0m                                 Traceback (most recent call last)",
      "\u001b[0;32m<ipython-input-13-8adccf8dc76b>\u001b[0m in \u001b[0;36m<module>\u001b[0;34m\u001b[0m\n\u001b[1;32m      6\u001b[0m \u001b[0mplt\u001b[0m\u001b[0;34m.\u001b[0m\u001b[0mlegend\u001b[0m\u001b[0;34m(\u001b[0m\u001b[0;34m[\u001b[0m\u001b[0;34m'A student'\u001b[0m\u001b[0;34m,\u001b[0m \u001b[0;34m'B student'\u001b[0m\u001b[0;34m]\u001b[0m\u001b[0;34m)\u001b[0m \u001b[0;31m#범례 삽입\u001b[0m\u001b[0;34m\u001b[0m\u001b[0;34m\u001b[0m\u001b[0m\n\u001b[1;32m      7\u001b[0m \u001b[0mplt\u001b[0m\u001b[0;34m.\u001b[0m\u001b[0mshow\u001b[0m\u001b[0;34m(\u001b[0m\u001b[0;34m)\u001b[0m\u001b[0;34m\u001b[0m\u001b[0;34m\u001b[0m\u001b[0m\n\u001b[0;32m----> 8\u001b[0;31m \u001b[0mtime\u001b[0m\u001b[0;34m.\u001b[0m\u001b[0mstrftime\u001b[0m\u001b[0;34m(\u001b[0m\u001b[0;34m'%c'\u001b[0m\u001b[0;34m,\u001b[0m \u001b[0mtime\u001b[0m\u001b[0;34m.\u001b[0m\u001b[0mlocaltime\u001b[0m\u001b[0;34m(\u001b[0m\u001b[0mtime\u001b[0m\u001b[0;34m.\u001b[0m\u001b[0mtime\u001b[0m\u001b[0;34m(\u001b[0m\u001b[0;34m)\u001b[0m\u001b[0;34m)\u001b[0m\u001b[0;34m)\u001b[0m\u001b[0;34m\u001b[0m\u001b[0;34m\u001b[0m\u001b[0m\n\u001b[0m",
      "\u001b[0;31mNameError\u001b[0m: name 'time' is not defined"
     ]
    }
   ],
   "source": [
    "plt.title('students')\n",
    "plt.plot([1,2,3,4],[2,4,8,6])\n",
    "plt.plot([1.5,2.5,3.5,4.5],[3,5,8,10]) #라인 새로 추가\n",
    "plt.xlabel('hours')\n",
    "plt.ylabel('score')\n",
    "plt.legend(['A student', 'B student']) #범례 삽입\n",
    "plt.show()"
   ]
  },
  {
   "cell_type": "code",
   "execution_count": 14,
   "metadata": {},
   "outputs": [],
   "source": [
    "import pandas as pd"
   ]
  },
  {
   "cell_type": "code",
   "execution_count": 15,
   "metadata": {},
   "outputs": [
    {
     "name": "stdout",
     "output_type": "stream",
     "text": [
      "      0         1      2\n",
      "0  1000     Steve  90.72\n",
      "1  1001     James  78.09\n",
      "2  1002    Doyeon  98.43\n",
      "3  1003      Jane  64.19\n",
      "4  1004  Pilwoong  81.30\n",
      "5  1005      Tony  99.14\n"
     ]
    }
   ],
   "source": [
    "data = [\n",
    "    ['1000', 'Steve', 90.72], \n",
    "    ['1001', 'James', 78.09], \n",
    "    ['1002', 'Doyeon', 98.43], \n",
    "    ['1003', 'Jane', 64.19], \n",
    "    ['1004', 'Pilwoong', 81.30],\n",
    "    ['1005', 'Tony', 99.14],\n",
    "]\n",
    "df = pd.DataFrame(data)\n",
    "print(df)"
   ]
  },
  {
   "cell_type": "code",
   "execution_count": 40,
   "metadata": {},
   "outputs": [],
   "source": [
    "import matplotlib.pyplot as plt\n",
    "import numpy as np"
   ]
  },
  {
   "cell_type": "code",
   "execution_count": 56,
   "metadata": {},
   "outputs": [
    {
     "data": {
      "image/png": "[encoded data removed]",
      "text/plain": [
       "<Figure size 432x288 with 1 Axes>"
      ]
     },
     "metadata": {
      "needs_background": "light"
     },
     "output_type": "display_data"
    }
   ],
   "source": [
    "x = ['math', 'science', 'english']\n",
    "y = [77, 50, 100]\n",
    "plt.xlabel('Score')\n",
    "plt.ylabel('Subject')\n",
    "plt.title('Hi')\n",
    "plt.legend(['Jeongmin'])\n",
    "plt.bar(x,y,width=0.5,color='green')\n",
    "plt.show()"
   ]
  },
  {
   "cell_type": "code",
   "execution_count": 2,
   "metadata": {},
   "outputs": [
    {
     "name": "stdout",
     "output_type": "stream",
     "text": [
      "프로그램 시작\n",
      "그래프 종류를 선택해주세요 : [1] 내 성적 막대 차트 , [2] 성적 비교 꺾은선 그래프 1\n",
      "과목을 입력해주세요(모두 입력했다면 end를 입력해주세요) : se\n",
      "과목을 입력해주세요(모두 입력했다면 end를 입력해주세요) : english\n",
      "과목을 입력해주세요(모두 입력했다면 end를 입력해주세요) : end\n",
      "['se', 'english']\n",
      "[]\n",
      "성적을 입력해주세요(입력하신 과목 수만큼 입력할 수 있습니다) : 10\n",
      "['se', 'english']\n",
      "[10]\n",
      "성적을 입력해주세요(입력하신 과목 수만큼 입력할 수 있습니다) : 20\n",
      "막대 그래프의 넓이를 설정해주세요(0.1 ~ 0.9 사이로 입력해주세요) : 0.5\n",
      "원하는 막대그래프의 색깔을 입력해주세요 : pink\n"
     ]
    },
    {
     "data": {
      "image/png": "[encoded data removed]",
      "text/plain": [
       "<Figure size 432x288 with 1 Axes>"
      ]
     },
     "metadata": {
      "needs_background": "light"
     },
     "output_type": "display_data"
    }
   ],
   "source": [
    "import matplotlib.pyplot as plt\n",
    "import sys\n",
    "class Grade:\n",
    "    def __init__(self):\n",
    "        print(\"프로그램 시작\")\n",
    "        self.subject = []\n",
    "        self.data = []\n",
    "        self.vs_data = []\n",
    "        self.person = 'opponent'\n",
    "        self.width = 0\n",
    "        self.color = 'black'\n",
    "    def my_grade(self):\n",
    "        plt.title('Bar_chart')\n",
    "        plt.xlabel('Score')\n",
    "        plt.ylabel('Subject')\n",
    "        plt.legend('My score')\n",
    "        plt.bar(self.subject, self.data, width=self.width, color=self.color)\n",
    "        plt.show()\n",
    "    def vs_grade(self):\n",
    "        plt.title('Line_graph')\n",
    "        plt.plot(self.subject, self.data)\n",
    "        plt.xlabel('Score')\n",
    "        plt.ylabel('Subject')\n",
    "        plt.plot(self.subject, self.vs_data)\n",
    "        plt.legend(['My score', self.person])\n",
    "        plt.show()\n",
    "    def set_subject(self):\n",
    "        while True:\n",
    "            for k in range(0, 10):\n",
    "                a = input('과목을 입력해주세요(모두 입력했다면 end를 입력해주세요) : ')\n",
    "                if a == 'end':\n",
    "                    break\n",
    "                # self.subject[k] = a\n",
    "                self.subject.insert(k, a)\n",
    "            break\n",
    "    def set_data(self):\n",
    "        for k in (0, len(self.subject) - 1):\n",
    "            print(self.subject)\n",
    "            print(self.data)\n",
    "            a = int(input('성적을 입력해주세요(입력하신 과목 수만큼 입력할 수 있습니다) : '))\n",
    "            # self.data[k] = a\n",
    "            self.data.append(a)\n",
    "    def set_vs_data(self):\n",
    "        for k in (0, len(self.subject) - 1):\n",
    "            a = int(input('비교할 사람의 성적을 입력해주세요(입력하신 과목 수만큼 입력할 수 있습니다) : '))\n",
    "            self.vs_data.append(a)\n",
    "    def set_person(self):\n",
    "        a = input('비교할 사람의 이름을 입력해주세요')\n",
    "        self.person = a\n",
    "    def set_width(self):\n",
    "        while True:\n",
    "            a = float(input('막대 그래프의 넓이를 설정해주세요(0.1 ~ 0.9 사이로 입력해주세요) : '))\n",
    "            if a < 0.1 or a > 0.9:\n",
    "                pass\n",
    "            else:\n",
    "                break\n",
    "    def set_color(self):\n",
    "            a = input('원하는 막대그래프의 색깔을 입력해주세요 : ')\n",
    "            self.color = a\n",
    "    def start(self):\n",
    "        a = int(input('그래프 종류를 선택해주세요 : [1] 내 성적 막대 차트 , [2] 성적 비교 꺾은선 그래프 '))\n",
    "        if a == 1:\n",
    "            Grade.bar_chart(self)\n",
    "        elif a == 2:\n",
    "            Grade.line_graph(self)\n",
    "        else:\n",
    "            print('1번과 2번 중에 선택해주세요')\n",
    "            sys.exit()\n",
    "    def bar_chart(self):\n",
    "        Grade.set_subject(self)\n",
    "        Grade.set_data(self)\n",
    "        Grade.set_width(self)\n",
    "        Grade.set_color(self)\n",
    "        Grade.my_grade(self)\n",
    "    def line_graph(self):\n",
    "        Grade.set_subject(self)\n",
    "        Grade.set_data(self)\n",
    "        Grade.set_vs_data(self)\n",
    "        Grade.set_person(self)\n",
    "        Grade.vs_grade(self)\n",
    "\n",
    "grade = Grade()\n",
    "grade.start()\n",
    "\n",
    "\n"
   ]
  },
  {
   "cell_type": "code",
   "execution_count": null,
   "metadata": {},
   "outputs": [],
   "source": []
  }
 ],
 "metadata": {
  "kernelspec": {
   "display_name": "Python 3",
   "language": "python",
   "name": "python3"
  },
  "language_info": {
   "codemirror_mode": {
    "name": "ipython",
    "version": 3
   },
   "file_extension": ".py",
   "mimetype": "text/x-python",
   "name": "python",
   "nbconvert_exporter": "python",
   "pygments_lexer": "ipython3",
   "version": "3.7.4"
  }
 },
 "nbformat": 4,
 "nbformat_minor": 2
}
