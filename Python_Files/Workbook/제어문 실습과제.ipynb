{
 "cells": [
  {
   "cell_type": "markdown",
   "metadata": {},
   "source": [
    "# 1. 1~100을 1줄에 10개씩 출력\n",
    "- 1.1 제어문을 이용하여 작성(시퀀스 자료형 사용안함)\n",
    "- 1.2 시퀀스 자료형을 이용하여 작성(list 내장)"
   ]
  },
  {
   "cell_type": "code",
   "execution_count": 25,
   "metadata": {},
   "outputs": [
    {
     "name": "stdout",
     "output_type": "stream",
     "text": [
      "1\t2\t3\t4\t5\t6\t7\t8\t9\t10\t\n",
      "11\t12\t13\t14\t15\t16\t17\t18\t19\t20\t\n",
      "21\t22\t23\t24\t25\t26\t27\t28\t29\t30\t\n",
      "31\t32\t33\t34\t35\t36\t37\t38\t39\t40\t\n",
      "41\t42\t43\t44\t45\t46\t47\t48\t49\t50\t\n",
      "51\t52\t53\t54\t55\t56\t57\t58\t59\t60\t\n",
      "61\t62\t63\t64\t65\t66\t67\t68\t69\t70\t\n",
      "71\t72\t73\t74\t75\t76\t77\t78\t79\t80\t\n",
      "81\t82\t83\t84\t85\t86\t87\t88\t89\t90\t\n",
      "91\t92\t93\t94\t95\t96\t97\t98\t99\t100\t\n"
     ]
    }
   ],
   "source": [
    "# 1.1\n",
    "for k in range(1, 101):\n",
    "    print(k, end='\\t')\n",
    "    if k % 10 == 0:\n",
    "        print()"
   ]
  },
  {
   "cell_type": "code",
   "execution_count": 34,
   "metadata": {
    "scrolled": true
   },
   "outputs": [
    {
     "name": "stdout",
     "output_type": "stream",
     "text": [
      "1\t2\t3\t4\t5\t6\t7\t8\t9\t10\t\n",
      "11\t12\t13\t14\t15\t16\t17\t18\t19\t20\t\n",
      "21\t22\t23\t24\t25\t26\t27\t28\t29\t30\t\n",
      "31\t32\t33\t34\t35\t36\t37\t38\t39\t40\t\n",
      "41\t42\t43\t44\t45\t46\t47\t48\t49\t50\t\n",
      "51\t52\t53\t54\t55\t56\t57\t58\t59\t60\t\n",
      "61\t62\t63\t64\t65\t66\t67\t68\t69\t70\t\n",
      "71\t72\t73\t74\t75\t76\t77\t78\t79\t80\t\n",
      "81\t82\t83\t84\t85\t86\t87\t88\t89\t90\t\n",
      "91\t92\t93\t94\t95\t96\t97\t98\t99\t100\t\n"
     ]
    }
   ],
   "source": [
    "# 1.2\n",
    "list = [k for k in range(1,101)]\n",
    "for k in list:\n",
    "    print(k, end='\\t')\n",
    "    if k % 10 == 0:\n",
    "        print()"
   ]
  },
  {
   "cell_type": "markdown",
   "metadata": {},
   "source": [
    "# 2. -999가 입력될 때까지 정수를 입력받은 후 양수/음수 개수와 양수일 때 짝수/홀수의 개수를 출력하는 프로그램"
   ]
  },
  {
   "cell_type": "code",
   "execution_count": 20,
   "metadata": {},
   "outputs": [
    {
     "name": "stdout",
     "output_type": "stream",
     "text": [
      "정수를 입력하세요 : 5\n",
      "정수를 입력하세요 : 5\n",
      "정수를 입력하세요 : 5\n",
      "정수를 입력하세요 : 5\n",
      "정수를 입력하세요 : 5\n",
      "정수를 입력하세요 : 5\n",
      "정수를 입력하세요 : 5\n",
      "정수를 입력하세요 : 5\n",
      "정수를 입력하세요 : 5\n",
      "정수를 입력하세요 : 5\n",
      "정수를 입력하세요 : -999\n",
      "양수 개수 : 10 음수 개수 : 0 짝수 개수 : 0 홀수 개수 : 10\n"
     ]
    }
   ],
   "source": [
    "positive_cnt, negative_cnt, even_cnt, odd_cnt = 0, 0, 0, 0\n",
    "while True:\n",
    "    num1 = int(input('정수를 입력하세요 : '))\n",
    "    if num1 == -999:\n",
    "        break\n",
    "    elif num1 > 0:\n",
    "        positive_cnt += 1\n",
    "        if num1 % 2 == 0:\n",
    "            even_cnt += 1\n",
    "        else:\n",
    "            odd_cnt += 1\n",
    "    else:\n",
    "        negative_cnt += 1\n",
    "print(\"{0}{1} {2}{3} {4}{5} {6}{7}\".format('양수 개수 : ', positive_cnt, '음수 개수 : ', negative_cnt, '짝수 개수 : ', even_cnt, '홀수 개수 : ', odd_cnt))\n",
    "\n",
    "    \n"
   ]
  },
  {
   "cell_type": "code",
   "execution_count": null,
   "metadata": {},
   "outputs": [],
   "source": []
  }
 ],
 "metadata": {
  "kernelspec": {
   "display_name": "Python 3",
   "language": "python",
   "name": "python3"
  },
  "language_info": {
   "codemirror_mode": {
    "name": "ipython",
    "version": 3
   },
   "file_extension": ".py",
   "mimetype": "text/x-python",
   "name": "python",
   "nbconvert_exporter": "python",
   "pygments_lexer": "ipython3",
   "version": "3.7.4"
  }
 },
 "nbformat": 4,
 "nbformat_minor": 2
}
