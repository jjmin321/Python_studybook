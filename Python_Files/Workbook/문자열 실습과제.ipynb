{
 "cells": [
  {
   "cell_type": "markdown",
   "metadata": {},
   "source": [
    "# 1. s = 'hong gil dong201912121623210'을 다음과 같이 출력하시오 \n",
    "- Name : hong gil dong\n",
    "- Birthday : 2019/12/12\n",
    "- ID Number : 20191212-1623210"
   ]
  },
  {
   "cell_type": "code",
   "execution_count": 7,
   "metadata": {},
   "outputs": [
    {
     "name": "stdout",
     "output_type": "stream",
     "text": [
      "Name :  hong gil dong\n",
      "Birthday :  2019/12/12\n",
      "ID Number :  20191212-1623210\n"
     ]
    }
   ],
   "source": [
    "s = 'hong gil dong201912121623210'\n",
    "print(\"Name : \", s[:13])\n",
    "print(\"Birthday : \", s[13:17]+\"/\"+s[17:19]+\"/\"+s[19:21])\n",
    "print(\"ID Number : \", s[13:21]+\"-\"+s[21:])"
   ]
  },
  {
   "cell_type": "markdown",
   "metadata": {},
   "source": [
    "# 2. s = \"PythonProgramming\" 내용을 문자열 슬라이싱과 문자열 연결하기를 이용하여 \"ProgrammingPython\"으로 변경하여 출력하시오 "
   ]
  },
  {
   "cell_type": "code",
   "execution_count": 19,
   "metadata": {},
   "outputs": [
    {
     "name": "stdout",
     "output_type": "stream",
     "text": [
      "ProgrammingPython\n",
      "PythonProgramming\n",
      "PythonProgramming\n"
     ]
    }
   ],
   "source": [
    "s = \"PythonProgramming\"\n",
    "s1 = s[6:] + s[:6]"
   ]
  },
  {
   "cell_type": "markdown",
   "metadata": {},
   "source": [
    "# 3. s = \"hello world\"의 내용을 \"hi world\"로 변경하여 출력하시오"
   ]
  },
  {
   "cell_type": "code",
   "execution_count": 22,
   "metadata": {},
   "outputs": [
    {
     "name": "stdout",
     "output_type": "stream",
     "text": [
      "hi world\n"
     ]
    }
   ],
   "source": [
    "s = \"hello world\"\n",
    "print(s.replace(\"hello\", \"hi\"))"
   ]
  }
 ],
 "metadata": {
  "kernelspec": {
   "display_name": "Python 3",
   "language": "python",
   "name": "python3"
  },
  "language_info": {
   "codemirror_mode": {
    "name": "ipython",
    "version": 3
   },
   "file_extension": ".py",
   "mimetype": "text/x-python",
   "name": "python",
   "nbconvert_exporter": "python",
   "pygments_lexer": "ipython3",
   "version": "3.7.4"
  }
 },
 "nbformat": 4,
 "nbformat_minor": 2
}
